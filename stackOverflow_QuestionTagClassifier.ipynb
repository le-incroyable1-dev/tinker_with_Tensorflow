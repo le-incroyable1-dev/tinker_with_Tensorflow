{
  "nbformat": 4,
  "nbformat_minor": 0,
  "metadata": {
    "colab": {
      "provenance": [],
      "authorship_tag": "ABX9TyOtZKlvRc1td4b1AtaHEIhc",
      "include_colab_link": true
    },
    "kernelspec": {
      "name": "python3",
      "display_name": "Python 3"
    },
    "language_info": {
      "name": "python"
    }
  },
  "cells": [
    {
      "cell_type": "markdown",
      "metadata": {
        "id": "view-in-github",
        "colab_type": "text"
      },
      "source": [
        "<a href=\"https://colab.research.google.com/github/le-incroyable1-dev/tinker_with_Tensorflow/blob/main/stackOverflow_QuestionTagClassifier.ipynb\" target=\"_parent\"><img src=\"https://colab.research.google.com/assets/colab-badge.svg\" alt=\"Open In Colab\"/></a>"
      ]
    },
    {
      "cell_type": "code",
      "execution_count": 24,
      "metadata": {
        "id": "sZ-M_lV5TrKl"
      },
      "outputs": [],
      "source": [
        "import matplotlib.pyplot as plt\n",
        "import os\n",
        "import re\n",
        "import shutil\n",
        "import string\n",
        "import tensorflow as tf\n",
        "\n",
        "from tensorflow.keras import layers\n",
        "from tensorflow.keras import losses"
      ]
    },
    {
      "cell_type": "code",
      "source": [
        "url = \"https://storage.googleapis.com/download.tensorflow.org/data/stack_overflow_16k.tar.gz\"\n",
        "\n",
        "dataset = tf.keras.utils.get_file(\"stack_overflow_16k\", url,\n",
        "                                    untar=True, cache_dir='.',\n",
        "                                    cache_subdir='')\n",
        "\n",
        "print(dataset)\n",
        "\n",
        "dataset_dir = os.path.join(os.path.dirname(dataset), './')"
      ],
      "metadata": {
        "colab": {
          "base_uri": "https://localhost:8080/"
        },
        "id": "_67yR-pyW1V5",
        "outputId": "90fe0062-a07c-4313-e2c0-ccfe5261a587"
      },
      "execution_count": 25,
      "outputs": [
        {
          "output_type": "stream",
          "name": "stdout",
          "text": [
            "./stack_overflow_16k\n"
          ]
        }
      ]
    },
    {
      "cell_type": "code",
      "source": [
        "os.listdir(dataset_dir)"
      ],
      "metadata": {
        "colab": {
          "base_uri": "https://localhost:8080/"
        },
        "id": "ZTKusTtCXoL0",
        "outputId": "f7bca5b0-56da-42b1-d843-8bca140e841e"
      },
      "execution_count": 26,
      "outputs": [
        {
          "output_type": "execute_result",
          "data": {
            "text/plain": [
              "['.config',\n",
              " 'train',\n",
              " 'stack_overflow_16k.tar.gz',\n",
              " 'test',\n",
              " 'README.md',\n",
              " 'sample_data']"
            ]
          },
          "metadata": {},
          "execution_count": 26
        }
      ]
    },
    {
      "cell_type": "code",
      "source": [
        "train_dir = os.path.join(dataset_dir, 'train')\n",
        "os.listdir(train_dir)"
      ],
      "metadata": {
        "colab": {
          "base_uri": "https://localhost:8080/"
        },
        "id": "uCF89iT8XpXo",
        "outputId": "5d1dc0fc-e532-4308-d5a8-4a3730ee05bc"
      },
      "execution_count": 27,
      "outputs": [
        {
          "output_type": "execute_result",
          "data": {
            "text/plain": [
              "['java', 'javascript', 'python', 'csharp']"
            ]
          },
          "metadata": {},
          "execution_count": 27
        }
      ]
    },
    {
      "cell_type": "code",
      "source": [
        "csharp_dir = os.path.join(train_dir, 'csharp')"
      ],
      "metadata": {
        "id": "_GRsrnVMYLWG"
      },
      "execution_count": 28,
      "outputs": []
    },
    {
      "cell_type": "code",
      "source": [
        "#checking a sample csharp entry\n",
        "\n",
        "sample_file = os.path.join(csharp_dir, '90.txt')\n",
        "with open(sample_file) as f:\n",
        "  print(f.read())"
      ],
      "metadata": {
        "colab": {
          "base_uri": "https://localhost:8080/"
        },
        "id": "2DsgjTiPYECx",
        "outputId": "20c61e7f-79e2-49d8-c341-2100217cf347"
      },
      "execution_count": 29,
      "outputs": [
        {
          "output_type": "stream",
          "name": "stdout",
          "text": [
            "\"the type `t' must be convertible in order to use it as parameter `t' in the generic type or method i have these two main classes. first the fsmsystem class:..public class fsmsystem&lt;t&gt; : monobehaviour where t : fsmsystem&lt;t&gt;.{.    private t m_owner = default(t);..    protected fsmstate&lt;t&gt; currentstate;..    private dictionary&lt;int, fsmstate&lt;t&gt;&gt; m_states;..    public fsmsystem(t owner).    {.        m_owner = gameobject.findobjectoftype(typeof(t)) as t; //owner;.        m_states = new dictionary&lt;int, fsmstate&lt;t&gt;&gt;();.    }..    protected void addstate( fsmstate&lt;t&gt; state ).    {.        m_states.add( state.getstateid(), state );.    }.}...and the second class, fsmstate:..public abstract class fsmstate&lt;t&gt;.{   .    public abstract int getstateid();..    public abstract void onenter (fsmsystem&lt;t&gt; fsm, fsmstate&lt;t&gt; prevstate);.    public abstract void onupdate (fsmsystem&lt;t&gt; fsm);.    public abstract void onexit (fsmsystem&lt;t&gt; fsm, fsmstate&lt;t&gt; nextstate);.}...it leads to the following error:...  error cs0309: the type 't' must be convertible to 'fsmsystem&lt;t&gt;' in.  order to use it as parameter 't' in the generic type or method.  'fsmsystem&lt;t&gt;'...can someone tell me how to resolve this? i see many other posts similar to this one but i'm not seeing the relationship.\"\n",
            "\n"
          ]
        }
      ]
    },
    {
      "cell_type": "code",
      "source": [
        "batch_size = 32\n",
        "seed = 42\n",
        "\n",
        "raw_train_ds = tf.keras.utils.text_dataset_from_directory(\n",
        "    'train', \n",
        "    batch_size=batch_size, \n",
        "    validation_split=0.25, \n",
        "    subset='training', \n",
        "    seed=seed)"
      ],
      "metadata": {
        "colab": {
          "base_uri": "https://localhost:8080/"
        },
        "id": "fh5lDea5ZH21",
        "outputId": "8df376a3-0a34-46bb-f857-70ac6fecaa7d"
      },
      "execution_count": 30,
      "outputs": [
        {
          "output_type": "stream",
          "name": "stdout",
          "text": [
            "Found 8000 files belonging to 4 classes.\n",
            "Using 6000 files for training.\n"
          ]
        }
      ]
    },
    {
      "cell_type": "code",
      "source": [
        "raw_val_ds = tf.keras.utils.text_dataset_from_directory(\n",
        "    'train', \n",
        "    batch_size=batch_size, \n",
        "    validation_split=0.25, \n",
        "    subset='validation', \n",
        "    seed=seed)"
      ],
      "metadata": {
        "colab": {
          "base_uri": "https://localhost:8080/"
        },
        "id": "TtUj5sA4aPa9",
        "outputId": "35b684d7-ec1e-4152-a9ea-492ffdb1c271"
      },
      "execution_count": 31,
      "outputs": [
        {
          "output_type": "stream",
          "name": "stdout",
          "text": [
            "Found 8000 files belonging to 4 classes.\n",
            "Using 2000 files for validation.\n"
          ]
        }
      ]
    },
    {
      "cell_type": "code",
      "source": [
        "raw_test_ds = tf.keras.utils.text_dataset_from_directory(\n",
        "    'test', \n",
        "    batch_size=batch_size)"
      ],
      "metadata": {
        "colab": {
          "base_uri": "https://localhost:8080/"
        },
        "id": "S1eR9LSCaSG_",
        "outputId": "843d5325-50d8-4cf3-e74d-5754822f06df"
      },
      "execution_count": 21,
      "outputs": [
        {
          "output_type": "stream",
          "name": "stdout",
          "text": [
            "Found 8000 files belonging to 4 classes.\n"
          ]
        }
      ]
    },
    {
      "cell_type": "code",
      "source": [
        "def custom_standardization(input_data):\n",
        "  lowercase = tf.strings.lower(input_data)\n",
        "  stripped_html = tf.strings.regex_replace(lowercase, '<br />', ' ')\n",
        "  return tf.strings.regex_replace(stripped_html,\n",
        "                                  '[%s]' % re.escape(string.punctuation),\n",
        "                                  '')"
      ],
      "metadata": {
        "id": "EtJFupU3amsV"
      },
      "execution_count": null,
      "outputs": []
    },
    {
      "cell_type": "code",
      "source": [
        "max_features = 10000\n",
        "sequence_length = 250\n",
        "\n",
        "vectorize_layer = layers.TextVectorization(\n",
        "    standardize=\"lower_and_strip_punctuation\",\n",
        "    max_tokens=max_features,\n",
        "    output_mode='int',\n",
        "    output_sequence_length=sequence_length)"
      ],
      "metadata": {
        "id": "_1v_t_31aoH9"
      },
      "execution_count": 36,
      "outputs": []
    },
    {
      "cell_type": "code",
      "source": [
        "# Make a text-only dataset (without labels), then call adapt\n",
        "train_text = raw_train_ds.map(lambda x, y: x)\n",
        "vectorize_layer.adapt(train_text)\n"
      ],
      "metadata": {
        "id": "3mF9KD7FbeDt"
      },
      "execution_count": 37,
      "outputs": []
    },
    {
      "cell_type": "code",
      "source": [
        "raw_train_ds"
      ],
      "metadata": {
        "colab": {
          "base_uri": "https://localhost:8080/"
        },
        "id": "RP9a_PqabkBm",
        "outputId": "86c2726b-9cdf-41b7-cb81-2f270e703d13"
      },
      "execution_count": 38,
      "outputs": [
        {
          "output_type": "execute_result",
          "data": {
            "text/plain": [
              "<BatchDataset element_spec=(TensorSpec(shape=(None,), dtype=tf.string, name=None), TensorSpec(shape=(None,), dtype=tf.int32, name=None))>"
            ]
          },
          "metadata": {},
          "execution_count": 38
        }
      ]
    },
    {
      "cell_type": "code",
      "source": [
        "def vectorize_text(text, label):\n",
        "  text = tf.expand_dims(text, -1)\n",
        "  return vectorize_layer(text), label"
      ],
      "metadata": {
        "id": "6N2_ibakcBqZ"
      },
      "execution_count": 39,
      "outputs": []
    },
    {
      "cell_type": "code",
      "source": [
        "train_ds = raw_train_ds.map(vectorize_text)\n",
        "val_ds = raw_val_ds.map(vectorize_text)\n",
        "test_ds = raw_test_ds.map(vectorize_text)"
      ],
      "metadata": {
        "id": "GiIwlklOcsev"
      },
      "execution_count": 42,
      "outputs": []
    },
    {
      "cell_type": "code",
      "source": [
        "embedding_dim = 16\n",
        "\n",
        "model = tf.keras.Sequential([\n",
        "  layers.Embedding(max_features + 1, embedding_dim),\n",
        "  layers.Dropout(0.2),\n",
        "  layers.GlobalAveragePooling1D(),\n",
        "  layers.Dropout(0.2),\n",
        "  layers.Dense(4)])\n",
        "\n",
        "model.summary()"
      ],
      "metadata": {
        "colab": {
          "base_uri": "https://localhost:8080/"
        },
        "id": "L4DXzOH_cyzH",
        "outputId": "eb82dd66-d02a-41e7-c947-27edab03b2c6"
      },
      "execution_count": 43,
      "outputs": [
        {
          "output_type": "stream",
          "name": "stdout",
          "text": [
            "Model: \"sequential\"\n",
            "_________________________________________________________________\n",
            " Layer (type)                Output Shape              Param #   \n",
            "=================================================================\n",
            " embedding (Embedding)       (None, None, 16)          160016    \n",
            "                                                                 \n",
            " dropout (Dropout)           (None, None, 16)          0         \n",
            "                                                                 \n",
            " global_average_pooling1d (G  (None, 16)               0         \n",
            " lobalAveragePooling1D)                                          \n",
            "                                                                 \n",
            " dropout_1 (Dropout)         (None, 16)                0         \n",
            "                                                                 \n",
            " dense (Dense)               (None, 4)                 68        \n",
            "                                                                 \n",
            "=================================================================\n",
            "Total params: 160,084\n",
            "Trainable params: 160,084\n",
            "Non-trainable params: 0\n",
            "_________________________________________________________________\n"
          ]
        }
      ]
    },
    {
      "cell_type": "code",
      "source": [
        "model.compile(loss=tf.keras.losses.SparseCategoricalCrossentropy(from_logits=True),\n",
        "              optimizer='adam',\n",
        "              metrics=['accuracy'])"
      ],
      "metadata": {
        "id": "8K5oQbFyEEgz"
      },
      "execution_count": 47,
      "outputs": []
    },
    {
      "cell_type": "code",
      "source": [
        "epochs = 20\n",
        "history = model.fit(\n",
        "    train_ds,\n",
        "    validation_data=val_ds,\n",
        "    epochs=epochs)"
      ],
      "metadata": {
        "colab": {
          "base_uri": "https://localhost:8080/"
        },
        "id": "d-TjusOFEcDD",
        "outputId": "9e9882cf-a1be-4c94-eeff-57bc9ae39366"
      },
      "execution_count": 49,
      "outputs": [
        {
          "output_type": "stream",
          "name": "stdout",
          "text": [
            "Epoch 1/20\n",
            "188/188 [==============================] - 4s 20ms/step - loss: 0.6515 - accuracy: 0.8080 - val_loss: 0.7117 - val_accuracy: 0.7790\n",
            "Epoch 2/20\n",
            "188/188 [==============================] - 5s 24ms/step - loss: 0.6279 - accuracy: 0.8138 - val_loss: 0.6942 - val_accuracy: 0.7785\n",
            "Epoch 3/20\n",
            "188/188 [==============================] - 4s 23ms/step - loss: 0.6038 - accuracy: 0.8220 - val_loss: 0.6776 - val_accuracy: 0.7810\n",
            "Epoch 4/20\n",
            "188/188 [==============================] - 4s 20ms/step - loss: 0.5818 - accuracy: 0.8303 - val_loss: 0.6641 - val_accuracy: 0.7795\n",
            "Epoch 5/20\n",
            "188/188 [==============================] - 4s 20ms/step - loss: 0.5634 - accuracy: 0.8383 - val_loss: 0.6507 - val_accuracy: 0.7860\n",
            "Epoch 6/20\n",
            "188/188 [==============================] - 4s 23ms/step - loss: 0.5423 - accuracy: 0.8457 - val_loss: 0.6393 - val_accuracy: 0.7870\n",
            "Epoch 7/20\n",
            "188/188 [==============================] - 5s 26ms/step - loss: 0.5228 - accuracy: 0.8548 - val_loss: 0.6288 - val_accuracy: 0.7880\n",
            "Epoch 8/20\n",
            "188/188 [==============================] - 5s 24ms/step - loss: 0.5063 - accuracy: 0.8605 - val_loss: 0.6184 - val_accuracy: 0.7920\n",
            "Epoch 9/20\n",
            "188/188 [==============================] - 4s 23ms/step - loss: 0.4860 - accuracy: 0.8647 - val_loss: 0.6098 - val_accuracy: 0.7910\n",
            "Epoch 10/20\n",
            "188/188 [==============================] - 4s 23ms/step - loss: 0.4727 - accuracy: 0.8668 - val_loss: 0.6011 - val_accuracy: 0.7950\n",
            "Epoch 11/20\n",
            "188/188 [==============================] - 4s 23ms/step - loss: 0.4585 - accuracy: 0.8703 - val_loss: 0.5933 - val_accuracy: 0.7935\n",
            "Epoch 12/20\n",
            "188/188 [==============================] - 4s 23ms/step - loss: 0.4421 - accuracy: 0.8790 - val_loss: 0.5862 - val_accuracy: 0.7965\n",
            "Epoch 13/20\n",
            "188/188 [==============================] - 4s 19ms/step - loss: 0.4299 - accuracy: 0.8843 - val_loss: 0.5810 - val_accuracy: 0.7955\n",
            "Epoch 14/20\n",
            "188/188 [==============================] - 4s 19ms/step - loss: 0.4159 - accuracy: 0.8895 - val_loss: 0.5738 - val_accuracy: 0.8015\n",
            "Epoch 15/20\n",
            "188/188 [==============================] - 4s 19ms/step - loss: 0.4048 - accuracy: 0.8928 - val_loss: 0.5689 - val_accuracy: 0.8020\n",
            "Epoch 16/20\n",
            "188/188 [==============================] - 4s 22ms/step - loss: 0.3943 - accuracy: 0.8965 - val_loss: 0.5640 - val_accuracy: 0.7995\n",
            "Epoch 17/20\n",
            "188/188 [==============================] - 4s 22ms/step - loss: 0.3832 - accuracy: 0.8967 - val_loss: 0.5608 - val_accuracy: 0.8025\n",
            "Epoch 18/20\n",
            "188/188 [==============================] - 4s 19ms/step - loss: 0.3682 - accuracy: 0.9037 - val_loss: 0.5560 - val_accuracy: 0.8045\n",
            "Epoch 19/20\n",
            "188/188 [==============================] - 4s 20ms/step - loss: 0.3588 - accuracy: 0.9055 - val_loss: 0.5518 - val_accuracy: 0.8045\n",
            "Epoch 20/20\n",
            "188/188 [==============================] - 4s 22ms/step - loss: 0.3487 - accuracy: 0.9098 - val_loss: 0.5482 - val_accuracy: 0.8070\n"
          ]
        }
      ]
    },
    {
      "cell_type": "code",
      "source": [
        "loss, accuracy = model.evaluate(test_ds)\n",
        "\n",
        "print(\"Loss: \", loss)\n",
        "print(\"Accuracy: \", accuracy)"
      ],
      "metadata": {
        "colab": {
          "base_uri": "https://localhost:8080/"
        },
        "id": "w0nCknxSEiMS",
        "outputId": "07b92043-6ae4-4d5e-d160-07da745366b8"
      },
      "execution_count": 50,
      "outputs": [
        {
          "output_type": "stream",
          "name": "stdout",
          "text": [
            "250/250 [==============================] - 3s 11ms/step - loss: 0.5659 - accuracy: 0.7920\n",
            "Loss:  0.5659465789794922\n",
            "Accuracy:  0.7919999957084656\n"
          ]
        }
      ]
    },
    {
      "cell_type": "code",
      "source": [
        "#export the model\n",
        "\n",
        "export_model = tf.keras.Sequential([\n",
        "  vectorize_layer,\n",
        "  model,\n",
        "  layers.Activation('sigmoid')\n",
        "])\n",
        "\n",
        "export_model.compile(\n",
        "    loss=tf.keras.losses.SparseCategoricalCrossentropy(from_logits=True), optimizer=\"adam\", metrics=['accuracy']\n",
        ")\n",
        "\n",
        "# Test it with `raw_test_ds`, which yields raw strings\n",
        "loss, accuracy = export_model.evaluate(raw_test_ds)\n",
        "print(accuracy)"
      ],
      "metadata": {
        "colab": {
          "base_uri": "https://localhost:8080/"
        },
        "id": "4Cgz3w7BHBOi",
        "outputId": "aed59e5b-dbb9-4b56-a026-e4018ae144bb"
      },
      "execution_count": 52,
      "outputs": [
        {
          "output_type": "stream",
          "name": "stderr",
          "text": [
            "/usr/local/lib/python3.8/dist-packages/tensorflow/python/util/dispatch.py:1082: UserWarning: \"`sparse_categorical_crossentropy` received `from_logits=True`, but the `output` argument was produced by a sigmoid or softmax activation and thus does not represent logits. Was this intended?\"\n",
            "  return dispatch_target(*args, **kwargs)\n"
          ]
        },
        {
          "output_type": "stream",
          "name": "stdout",
          "text": [
            "250/250 [==============================] - 4s 13ms/step - loss: 0.5659 - accuracy: 0.7920\n",
            "0.7919999957084656\n"
          ]
        }
      ]
    },
    {
      "cell_type": "code",
      "source": [
        "#test the model on some random samples!\n",
        "\n",
        "examples = [\n",
        "  \"Does print statement in java effect any variables (without using increment)?\",\n",
        "  \"Reading data with Custom HID in C#\",\n",
        "  \"is javascript object oriented?\"\n",
        "]\n",
        "\n",
        "print(['java', 'javascript', 'python', 'csharp'])\n",
        "export_model.predict(examples)"
      ],
      "metadata": {
        "colab": {
          "base_uri": "https://localhost:8080/"
        },
        "id": "tvbO5ricHFp3",
        "outputId": "13937fa7-9d75-458f-e7d0-c10875f3d2a5"
      },
      "execution_count": 55,
      "outputs": [
        {
          "output_type": "stream",
          "name": "stdout",
          "text": [
            "['java', 'javascript', 'python', 'csharp']\n",
            "1/1 [==============================] - 0s 35ms/step\n"
          ]
        },
        {
          "output_type": "execute_result",
          "data": {
            "text/plain": [
              "array([[0.46026048, 0.45788324, 0.5680035 , 0.5561012 ],\n",
              "       [0.57538766, 0.45803604, 0.53347605, 0.4392433 ],\n",
              "       [0.5604208 , 0.43794104, 0.6412549 , 0.37614554]], dtype=float32)"
            ]
          },
          "metadata": {},
          "execution_count": 55
        }
      ]
    }
  ]
}