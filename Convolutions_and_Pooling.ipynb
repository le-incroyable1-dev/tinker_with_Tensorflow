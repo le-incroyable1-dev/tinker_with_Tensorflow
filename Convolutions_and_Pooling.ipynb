{
  "nbformat": 4,
  "nbformat_minor": 0,
  "metadata": {
    "colab": {
      "provenance": [],
      "authorship_tag": "ABX9TyMPmoGoObYY/9DJ14ePJPMX",
      "include_colab_link": true
    },
    "kernelspec": {
      "name": "python3",
      "display_name": "Python 3"
    },
    "language_info": {
      "name": "python"
    }
  },
  "cells": [
    {
      "cell_type": "markdown",
      "metadata": {
        "id": "view-in-github",
        "colab_type": "text"
      },
      "source": [
        "<a href=\"https://colab.research.google.com/github/le-incroyable1-dev/tinker_with_Tensorflow/blob/main/Convolutions_and_Pooling.ipynb\" target=\"_parent\"><img src=\"https://colab.research.google.com/assets/colab-badge.svg\" alt=\"Open In Colab\"/></a>"
      ]
    },
    {
      "cell_type": "code",
      "execution_count": 12,
      "metadata": {
        "id": "cdETf3FSWkP6"
      },
      "outputs": [],
      "source": [
        "import tensorflow as tf\n",
        "from tensorflow import keras"
      ]
    },
    {
      "cell_type": "code",
      "source": [
        "fmnist = tf.keras.datasets.fashion_mnist\n",
        "(train_images, train_labels), (test_images, test_labels) = fmnist.load_data()"
      ],
      "metadata": {
        "id": "4j7_Lx64d0EF"
      },
      "execution_count": 13,
      "outputs": []
    },
    {
      "cell_type": "code",
      "source": [
        "model = keras.Sequential([\n",
        "    keras.layers.Flatten(),\n",
        "    keras.layers.Dense(128, activation = tf.nn.relu),\n",
        "    keras.layers.Dense(10, activation = tf.nn.softmax)\n",
        "])\n",
        "\n",
        "model.compile(optimizer = 'adam', loss = 'sparse_categorical_crossentropy', metrics = ['accuracy'])\n",
        "\n",
        "model.fit(train_images, train_labels, epochs = 5)\n",
        "\n",
        "test_loss = model.evaluate(test_images, test_labels)\n",
        "print(test_loss)"
      ],
      "metadata": {
        "id": "INog0vlLhmEr",
        "colab": {
          "base_uri": "https://localhost:8080/"
        },
        "outputId": "7e818a4d-5720-44f6-eaca-6108fd9c3f5d"
      },
      "execution_count": 15,
      "outputs": [
        {
          "output_type": "stream",
          "name": "stdout",
          "text": [
            "Epoch 1/5\n",
            "1875/1875 [==============================] - 6s 3ms/step - loss: 4.1214 - accuracy: 0.7090\n",
            "Epoch 2/5\n",
            "1875/1875 [==============================] - 6s 3ms/step - loss: 0.6840 - accuracy: 0.7543\n",
            "Epoch 3/5\n",
            "1875/1875 [==============================] - 6s 3ms/step - loss: 0.5912 - accuracy: 0.7942\n",
            "Epoch 4/5\n",
            "1875/1875 [==============================] - 6s 3ms/step - loss: 0.5476 - accuracy: 0.8134\n",
            "Epoch 5/5\n",
            "1875/1875 [==============================] - 5s 3ms/step - loss: 0.5208 - accuracy: 0.8230\n",
            "313/313 [==============================] - 1s 2ms/step - loss: 0.5555 - accuracy: 0.8173\n",
            "[0.555490255355835, 0.817300021648407]\n"
          ]
        }
      ]
    },
    {
      "cell_type": "code",
      "source": [],
      "metadata": {
        "id": "9SB_0YxJ8Z1Y"
      },
      "execution_count": null,
      "outputs": []
    },
    {
      "cell_type": "code",
      "source": [
        "convolutedModel = keras.Sequential([\n",
        "    keras.layers.Conv2D(64, (3,3), activation = 'relu', input_shape = (28, 28, 1)),\n",
        "    keras.layers.MaxPooling2D(2, 2),\n",
        "    keras.layers.Conv2D(64, (3,3), activation = 'relu'),\n",
        "    keras.layers.MaxPooling2D(2, 2),\n",
        "    keras.layers.Flatten(input_shape = (28, 28)),\n",
        "    keras.layers.Dense(128, activation = tf.nn.relu),\n",
        "    keras.layers.Dense(10, activation = tf.nn.softmax)\n",
        "])"
      ],
      "metadata": {
        "id": "CDTGgW8N1WzO"
      },
      "execution_count": 8,
      "outputs": []
    },
    {
      "cell_type": "markdown",
      "source": [
        "Refer : https://lodev.org/cgtutor/filtering.html for more information on convolution filters"
      ],
      "metadata": {
        "id": "4ZXJggupBzL-"
      }
    },
    {
      "cell_type": "code",
      "source": [
        "convolutedModel.summary()"
      ],
      "metadata": {
        "colab": {
          "base_uri": "https://localhost:8080/"
        },
        "id": "pmzM9HK-6bLU",
        "outputId": "31df0aea-96e0-452f-e60e-bc0fe0c11dfe"
      },
      "execution_count": 9,
      "outputs": [
        {
          "output_type": "stream",
          "name": "stdout",
          "text": [
            "Model: \"sequential_4\"\n",
            "_________________________________________________________________\n",
            " Layer (type)                Output Shape              Param #   \n",
            "=================================================================\n",
            " conv2d_4 (Conv2D)           (None, 26, 26, 64)        640       \n",
            "                                                                 \n",
            " max_pooling2d_4 (MaxPooling  (None, 13, 13, 64)       0         \n",
            " 2D)                                                             \n",
            "                                                                 \n",
            " conv2d_5 (Conv2D)           (None, 11, 11, 64)        36928     \n",
            "                                                                 \n",
            " max_pooling2d_5 (MaxPooling  (None, 5, 5, 64)         0         \n",
            " 2D)                                                             \n",
            "                                                                 \n",
            " flatten_4 (Flatten)         (None, 1600)              0         \n",
            "                                                                 \n",
            " dense_8 (Dense)             (None, 128)               204928    \n",
            "                                                                 \n",
            " dense_9 (Dense)             (None, 10)                1290      \n",
            "                                                                 \n",
            "=================================================================\n",
            "Total params: 243,786\n",
            "Trainable params: 243,786\n",
            "Non-trainable params: 0\n",
            "_________________________________________________________________\n"
          ]
        }
      ]
    },
    {
      "cell_type": "code",
      "source": [
        "convolutedModel.compile(optimizer = 'adam', loss = 'sparse_categorical_crossentropy', metrics = ['accuracy'])\n",
        "\n",
        "convolutedModel.fit(train_images, train_labels, epochs = 5)\n",
        "test_loss = convolutedModel.evaluate(test_images, test_labels)\n",
        "print(test_loss)"
      ],
      "metadata": {
        "colab": {
          "base_uri": "https://localhost:8080/"
        },
        "id": "U35TJOAT8hLa",
        "outputId": "a7337c37-a358-472f-da69-c15b7d52703c"
      },
      "execution_count": 16,
      "outputs": [
        {
          "output_type": "stream",
          "name": "stdout",
          "text": [
            "Epoch 1/5\n",
            "1875/1875 [==============================] - 98s 52ms/step - loss: 0.5712 - accuracy: 0.8219\n",
            "Epoch 2/5\n",
            "1875/1875 [==============================] - 95s 51ms/step - loss: 0.3351 - accuracy: 0.8769\n",
            "Epoch 3/5\n",
            "1875/1875 [==============================] - 97s 52ms/step - loss: 0.2955 - accuracy: 0.8894\n",
            "Epoch 4/5\n",
            "1875/1875 [==============================] - 96s 51ms/step - loss: 0.2687 - accuracy: 0.8988\n",
            "Epoch 5/5\n",
            "1875/1875 [==============================] - 95s 51ms/step - loss: 0.2490 - accuracy: 0.9065\n",
            "313/313 [==============================] - 5s 15ms/step - loss: 0.3213 - accuracy: 0.8882\n",
            "[0.3212888538837433, 0.8881999850273132]\n"
          ]
        }
      ]
    },
    {
      "cell_type": "markdown",
      "source": [
        "Network accuracy increased to 0.88 and loss reduced to 0.3123"
      ],
      "metadata": {
        "id": "tsp7T44BCEFQ"
      }
    }
  ]
}