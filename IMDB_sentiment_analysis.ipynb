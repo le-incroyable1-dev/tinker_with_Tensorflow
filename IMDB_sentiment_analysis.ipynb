{
  "nbformat": 4,
  "nbformat_minor": 0,
  "metadata": {
    "colab": {
      "provenance": [],
      "authorship_tag": "ABX9TyMVTHGPmwhFvpkGF+cd0OSd",
      "include_colab_link": true
    },
    "kernelspec": {
      "name": "python3",
      "display_name": "Python 3"
    },
    "language_info": {
      "name": "python"
    }
  },
  "cells": [
    {
      "cell_type": "markdown",
      "metadata": {
        "id": "view-in-github",
        "colab_type": "text"
      },
      "source": [
        "<a href=\"https://colab.research.google.com/github/le-incroyable1-dev/tinker_with_Tensorflow/blob/main/IMDB_sentiment_analysis.ipynb\" target=\"_parent\"><img src=\"https://colab.research.google.com/assets/colab-badge.svg\" alt=\"Open In Colab\"/></a>"
      ]
    },
    {
      "cell_type": "code",
      "execution_count": 1,
      "metadata": {
        "id": "sZ-M_lV5TrKl"
      },
      "outputs": [],
      "source": [
        "import matplotlib.pyplot as plt\n",
        "import os\n",
        "import re\n",
        "import shutil\n",
        "import string\n",
        "import tensorflow as tf\n",
        "\n",
        "from tensorflow.keras import layers\n",
        "from tensorflow.keras import losses"
      ]
    },
    {
      "cell_type": "code",
      "source": [
        "url = \"https://ai.stanford.edu/~amaas/data/sentiment/aclImdb_v1.tar.gz\"\n",
        "\n",
        "dataset = tf.keras.utils.get_file(\"aclImdb_v1\", url,\n",
        "                                    untar=True, cache_dir='.',\n",
        "                                    cache_subdir='')\n",
        "\n",
        "dataset_dir = os.path.join(os.path.dirname(dataset), 'aclImdb')"
      ],
      "metadata": {
        "colab": {
          "base_uri": "https://localhost:8080/"
        },
        "id": "_67yR-pyW1V5",
        "outputId": "865f2bf1-26d9-4e91-b9b7-c5c41da87df6"
      },
      "execution_count": 2,
      "outputs": [
        {
          "output_type": "stream",
          "name": "stdout",
          "text": [
            "Downloading data from https://ai.stanford.edu/~amaas/data/sentiment/aclImdb_v1.tar.gz\n",
            "84125825/84125825 [==============================] - 2s 0us/step\n"
          ]
        }
      ]
    },
    {
      "cell_type": "code",
      "source": [
        "os.listdir(dataset_dir)"
      ],
      "metadata": {
        "colab": {
          "base_uri": "https://localhost:8080/"
        },
        "id": "ZTKusTtCXoL0",
        "outputId": "67fa6dbb-6576-400d-e6f5-f3e7e8d875f0"
      },
      "execution_count": 3,
      "outputs": [
        {
          "output_type": "execute_result",
          "data": {
            "text/plain": [
              "['imdbEr.txt', 'train', 'README', 'test', 'imdb.vocab']"
            ]
          },
          "metadata": {},
          "execution_count": 3
        }
      ]
    },
    {
      "cell_type": "code",
      "source": [
        "train_dir = os.path.join(dataset_dir, 'train')\n",
        "os.listdir(train_dir)"
      ],
      "metadata": {
        "colab": {
          "base_uri": "https://localhost:8080/"
        },
        "id": "uCF89iT8XpXo",
        "outputId": "2b3c84f7-7728-4668-8a01-331a99538709"
      },
      "execution_count": 4,
      "outputs": [
        {
          "output_type": "execute_result",
          "data": {
            "text/plain": [
              "['urls_unsup.txt',\n",
              " 'urls_pos.txt',\n",
              " 'labeledBow.feat',\n",
              " 'unsup',\n",
              " 'pos',\n",
              " 'urls_neg.txt',\n",
              " 'neg',\n",
              " 'unsupBow.feat']"
            ]
          },
          "metadata": {},
          "execution_count": 4
        }
      ]
    },
    {
      "cell_type": "code",
      "source": [],
      "metadata": {
        "id": "QFdxlWnzaMdz"
      },
      "execution_count": 4,
      "outputs": []
    },
    {
      "cell_type": "code",
      "source": [
        "neg_dir = os.path.join(train_dir, 'neg')"
      ],
      "metadata": {
        "id": "_GRsrnVMYLWG"
      },
      "execution_count": 5,
      "outputs": []
    },
    {
      "cell_type": "code",
      "source": [
        "sample_file = os.path.join(neg_dir, '24_1.txt')\n",
        "with open(sample_file) as f:\n",
        "  print(f.read())"
      ],
      "metadata": {
        "colab": {
          "base_uri": "https://localhost:8080/"
        },
        "id": "2DsgjTiPYECx",
        "outputId": "42574d2c-c088-4002-bd79-e0b23b96227a"
      },
      "execution_count": 6,
      "outputs": [
        {
          "output_type": "stream",
          "name": "stdout",
          "text": [
            "I have to congratulate the genius who approved this one. Edward Furlong, you're not as good as you think mate, you can't grab on every piece of low-cost amateur crap, which sole intention has to be to get some bucks.<br /><br />The filming is bad, and I mean BAD. Anyone with a camera would get the same result, or better.<br /><br />The acting, lets just say: don't go to the supermarket looking for actors. The good ones usually come with a degree or, at least, have some damn experience! The director.. Mr. Jon Keeyes, please find your purpose in life, as a director you simply suck. Your directing is poor, the angles are all messed up (not in a good way), the lines seem as if they're being read out of toilet paper, and the damn music.. it always comes up when it shouldn't and goes out for no apparent reason. And don't go for writer either, by the way. Making movies isn't like serving on a coffeshop, it requires art and skill, things I really doubt you'll ever have.<br /><br />Instead of making a badass shootout movie, you should've shot this one back to oblivion and wait 'till something good came up.. Or just go find a job on a coffeshop. You'll have less stress and you'll save movie goers some money and a bad night.<br /><br />vote: 1/10 (my first one)\n"
          ]
        }
      ]
    },
    {
      "cell_type": "code",
      "source": [
        "remove_dir = os.path.join(train_dir, 'unsup')\n",
        "shutil.rmtree(remove_dir)"
      ],
      "metadata": {
        "id": "QAHrHcRrYKP7"
      },
      "execution_count": 7,
      "outputs": []
    },
    {
      "cell_type": "code",
      "source": [
        "batch_size = 32\n",
        "seed = 42\n",
        "\n",
        "raw_train_ds = tf.keras.utils.text_dataset_from_directory(\n",
        "    'aclImdb/train', \n",
        "    batch_size=batch_size, \n",
        "    validation_split=0.25, \n",
        "    subset='training', \n",
        "    seed=seed)"
      ],
      "metadata": {
        "colab": {
          "base_uri": "https://localhost:8080/"
        },
        "id": "fh5lDea5ZH21",
        "outputId": "1b69c9ea-91bb-4989-c062-2b15c1739484"
      },
      "execution_count": 8,
      "outputs": [
        {
          "output_type": "stream",
          "name": "stdout",
          "text": [
            "Found 25000 files belonging to 2 classes.\n",
            "Using 18750 files for training.\n"
          ]
        }
      ]
    },
    {
      "cell_type": "code",
      "source": [
        "raw_val_ds = tf.keras.utils.text_dataset_from_directory(\n",
        "    'aclImdb/train', \n",
        "    batch_size=batch_size, \n",
        "    validation_split=0.25, \n",
        "    subset='validation', \n",
        "    seed=seed)"
      ],
      "metadata": {
        "colab": {
          "base_uri": "https://localhost:8080/"
        },
        "id": "TtUj5sA4aPa9",
        "outputId": "616d2a95-7fcd-4cef-fc44-de1c2effb6ea"
      },
      "execution_count": 9,
      "outputs": [
        {
          "output_type": "stream",
          "name": "stdout",
          "text": [
            "Found 25000 files belonging to 2 classes.\n",
            "Using 6250 files for validation.\n"
          ]
        }
      ]
    },
    {
      "cell_type": "code",
      "source": [
        "raw_test_ds = tf.keras.utils.text_dataset_from_directory(\n",
        "    'aclImdb/test', \n",
        "    batch_size=batch_size)"
      ],
      "metadata": {
        "colab": {
          "base_uri": "https://localhost:8080/"
        },
        "id": "S1eR9LSCaSG_",
        "outputId": "e90502cc-3adb-4b9d-9d6f-827450a13b58"
      },
      "execution_count": 10,
      "outputs": [
        {
          "output_type": "stream",
          "name": "stdout",
          "text": [
            "Found 25000 files belonging to 2 classes.\n"
          ]
        }
      ]
    },
    {
      "cell_type": "code",
      "source": [
        "def custom_standardization(input_data):\n",
        "  lowercase = tf.strings.lower(input_data)\n",
        "  stripped_html = tf.strings.regex_replace(lowercase, '<br />', ' ')\n",
        "  return tf.strings.regex_replace(stripped_html,\n",
        "                                  '[%s]' % re.escape(string.punctuation),\n",
        "                                  '')"
      ],
      "metadata": {
        "id": "EtJFupU3amsV"
      },
      "execution_count": 11,
      "outputs": []
    },
    {
      "cell_type": "code",
      "source": [
        "max_features = 10000\n",
        "sequence_length = 250\n",
        "\n",
        "vectorize_layer = layers.TextVectorization(\n",
        "    standardize=custom_standardization,\n",
        "    max_tokens=max_features,\n",
        "    output_mode='int',\n",
        "    output_sequence_length=sequence_length)"
      ],
      "metadata": {
        "id": "_1v_t_31aoH9"
      },
      "execution_count": 12,
      "outputs": []
    },
    {
      "cell_type": "code",
      "source": [
        "# Make a text-only dataset (without labels), then call adapt\n",
        "train_text = raw_train_ds.map(lambda x, y: x)\n",
        "vectorize_layer.adapt(train_text)\n"
      ],
      "metadata": {
        "id": "3mF9KD7FbeDt"
      },
      "execution_count": 13,
      "outputs": []
    },
    {
      "cell_type": "code",
      "source": [
        "raw_train_ds"
      ],
      "metadata": {
        "colab": {
          "base_uri": "https://localhost:8080/"
        },
        "id": "RP9a_PqabkBm",
        "outputId": "04f0a8c9-19ea-4511-e605-a74a3b48d094"
      },
      "execution_count": 14,
      "outputs": [
        {
          "output_type": "execute_result",
          "data": {
            "text/plain": [
              "<BatchDataset element_spec=(TensorSpec(shape=(None,), dtype=tf.string, name=None), TensorSpec(shape=(None,), dtype=tf.int32, name=None))>"
            ]
          },
          "metadata": {},
          "execution_count": 14
        }
      ]
    },
    {
      "cell_type": "code",
      "source": [
        "def vectorize_text(text, label):\n",
        "  text = tf.expand_dims(text, -1)\n",
        "  return vectorize_layer(text), label"
      ],
      "metadata": {
        "id": "6N2_ibakcBqZ"
      },
      "execution_count": 15,
      "outputs": []
    },
    {
      "cell_type": "code",
      "source": [
        "# retrieve a batch (of 32 reviews and labels) from the dataset\n",
        "text_batch, label_batch = next(iter(raw_train_ds))\n",
        "first_review, first_label = text_batch[0], label_batch[0]\n",
        "print(\"Review\", first_review)\n",
        "print(\"Label\", raw_train_ds.class_names[first_label])\n",
        "print(\"Vectorized review\", vectorize_text(first_review, first_label))"
      ],
      "metadata": {
        "colab": {
          "base_uri": "https://localhost:8080/"
        },
        "id": "2h9rMI0GcDOP",
        "outputId": "674f9591-34ac-44d1-ec5d-ac9eb7e14b99"
      },
      "execution_count": 16,
      "outputs": [
        {
          "output_type": "stream",
          "name": "stdout",
          "text": [
            "Review tf.Tensor(b'Silent Night, Deadly Night 5 is the very last of the series, and like part 4, it\\'s unrelated to the first three except by title and the fact that it\\'s a Christmas-themed horror flick.<br /><br />Except to the oblivious, there\\'s some obvious things going on here...Mickey Rooney plays a toymaker named Joe Petto and his creepy son\\'s name is Pino. Ring a bell, anyone? Now, a little boy named Derek heard a knock at the door one evening, and opened it to find a present on the doorstep for him. Even though it said \"don\\'t open till Christmas\", he begins to open it anyway but is stopped by his dad, who scolds him and sends him to bed, and opens the gift himself. Inside is a little red ball that sprouts Santa arms and a head, and proceeds to kill dad. Oops, maybe he should have left well-enough alone. Of course Derek is then traumatized by the incident since he watched it from the stairs, but he doesn\\'t grow up to be some killer Santa, he just stops talking.<br /><br />There\\'s a mysterious stranger lurking around, who seems very interested in the toys that Joe Petto makes. We even see him buying a bunch when Derek\\'s mom takes him to the store to find a gift for him to bring him out of his trauma. And what exactly is this guy doing? Well, we\\'re not sure but he does seem to be taking these toys apart to see what makes them tick. He does keep his landlord from evicting him by promising him to pay him in cash the next day and presents him with a \"Larry the Larvae\" toy for his kid, but of course \"Larry\" is not a good toy and gets out of the box in the car and of course, well, things aren\\'t pretty.<br /><br />Anyway, eventually what\\'s going on with Joe Petto and Pino is of course revealed, and as with the old story, Pino is not a \"real boy\". Pino is probably even more agitated and naughty because he suffers from \"Kenitalia\" (a smooth plastic crotch) so that could account for his evil ways. And the identity of the lurking stranger is revealed too, and there\\'s even kind of a happy ending of sorts. Whee.<br /><br />A step up from part 4, but not much of one. Again, Brian Yuzna is involved, and Screaming Mad George, so some decent special effects, but not enough to make this great. A few leftovers from part 4 are hanging around too, like Clint Howard and Neith Hunter, but that doesn\\'t really make any difference. Anyway, I now have seeing the whole series out of my system. Now if I could get some of it out of my brain. 4 out of 5.', shape=(), dtype=string)\n",
            "Label neg\n",
            "Vectorized review (<tf.Tensor: shape=(1, 250), dtype=int64, numpy=\n",
            "array([[1307,  306, 2357,  306,  648,    7,    2,   52,  228,    5,    2,\n",
            "         198,    3,   38,  170,  660,   29, 5378,    6,    2,   84,  296,\n",
            "         539,   32,  411,    3,    2,  187,   12,   29,    4,    1,  193,\n",
            "         517,  539,    6,    2, 8059,  210,   46,  569,  175,  165,   20,\n",
            "           1, 5204,  288,    4,    1,  767,  956,    1,    3,   24,  937,\n",
            "        2401,  395,    7,    1, 1673,    4, 3698,  252,  148,    4,  111,\n",
            "         441,  767, 3524,  546,    4, 3618,   30,    2, 1333,   28, 2204,\n",
            "           3, 2891,    9,    6,  163,    4, 1011,   20,    2,    1,   15,\n",
            "          85,   53,  146,    9,  292,   89,  978, 2300,  981,   27,  755,\n",
            "           6,  978,    9,  561,   18,    7, 2160,   32,   24, 1314,   36,\n",
            "           1,   85,    3, 3299,   85,    6, 1413,    3, 1965,    2, 3344,\n",
            "         301,  951,    7,    4,  111,  752, 1969,   12,    1, 2006, 2802,\n",
            "           3,    4,  420,    3, 5212,    6,  505, 1314,    1,  277,   27,\n",
            "         139,   25,  309,    1,  572,    5,  255, 3524,    7,   91, 9546,\n",
            "          32,    2, 3993,  229,   27,  291,    9,   35,    2, 5624,   18,\n",
            "          27,  144, 2144,   56,    6,   26,   46,  464, 2006,   27,   40,\n",
            "        2749,  672,  210,    4, 1377, 3113, 7168,  182,   36,  180,   52,\n",
            "         926,    8,    2, 3975,   12,  956,    1,  157,   71,   53,   67,\n",
            "          85, 2719,    4,  731,   51,    1, 1669,  294,   85,    6,    2,\n",
            "        1162,    6,  163,    4, 3344,   15,   85,    6,  713,   85,   44,\n",
            "           5,   24, 7257,    3,   48,  598,    7,   11,  225,  385,   73,\n",
            "          65,   21,  242,   18,   27,  120,  298,    6,   26,  653,  129,\n",
            "        3975,  942,    6,   67,   48,  157,   93,    1]])>, <tf.Tensor: shape=(), dtype=int32, numpy=0>)\n"
          ]
        }
      ]
    },
    {
      "cell_type": "code",
      "source": [
        "train_ds = raw_train_ds.map(vectorize_text)\n",
        "val_ds = raw_val_ds.map(vectorize_text)\n",
        "test_ds = raw_test_ds.map(vectorize_text)"
      ],
      "metadata": {
        "id": "GiIwlklOcsev"
      },
      "execution_count": 17,
      "outputs": []
    },
    {
      "cell_type": "code",
      "source": [
        "embedding_dim = 16\n",
        "\n",
        "model = tf.keras.Sequential([\n",
        "  layers.Embedding(max_features + 1, embedding_dim),\n",
        "  layers.Dropout(0.2),\n",
        "  layers.GlobalAveragePooling1D(),\n",
        "  layers.Dropout(0.2),\n",
        "  layers.Dense(1)])\n",
        "\n",
        "model.summary()"
      ],
      "metadata": {
        "colab": {
          "base_uri": "https://localhost:8080/"
        },
        "id": "L4DXzOH_cyzH",
        "outputId": "aa5307ef-d8e9-4c2a-f25f-ca056f57d794"
      },
      "execution_count": 18,
      "outputs": [
        {
          "output_type": "stream",
          "name": "stdout",
          "text": [
            "Model: \"sequential\"\n",
            "_________________________________________________________________\n",
            " Layer (type)                Output Shape              Param #   \n",
            "=================================================================\n",
            " embedding (Embedding)       (None, None, 16)          160016    \n",
            "                                                                 \n",
            " dropout (Dropout)           (None, None, 16)          0         \n",
            "                                                                 \n",
            " global_average_pooling1d (G  (None, 16)               0         \n",
            " lobalAveragePooling1D)                                          \n",
            "                                                                 \n",
            " dropout_1 (Dropout)         (None, 16)                0         \n",
            "                                                                 \n",
            " dense (Dense)               (None, 1)                 17        \n",
            "                                                                 \n",
            "=================================================================\n",
            "Total params: 160,033\n",
            "Trainable params: 160,033\n",
            "Non-trainable params: 0\n",
            "_________________________________________________________________\n"
          ]
        }
      ]
    },
    {
      "cell_type": "code",
      "source": [
        "model.compile(loss=losses.BinaryCrossentropy(from_logits=True),\n",
        "              optimizer='adam',\n",
        "              metrics=tf.metrics.BinaryAccuracy(threshold=0.0))"
      ],
      "metadata": {
        "id": "8K5oQbFyEEgz"
      },
      "execution_count": 19,
      "outputs": []
    },
    {
      "cell_type": "code",
      "source": [
        "epochs = 10\n",
        "history = model.fit(\n",
        "    train_ds,\n",
        "    validation_data=val_ds,\n",
        "    epochs=epochs)"
      ],
      "metadata": {
        "colab": {
          "base_uri": "https://localhost:8080/"
        },
        "id": "d-TjusOFEcDD",
        "outputId": "e1d1b591-1c03-4dbc-9002-9dde7747deb7"
      },
      "execution_count": 20,
      "outputs": [
        {
          "output_type": "stream",
          "name": "stdout",
          "text": [
            "Epoch 1/10\n",
            "586/586 [==============================] - 12s 20ms/step - loss: 0.6692 - binary_accuracy: 0.6822 - val_loss: 0.6254 - val_binary_accuracy: 0.7653\n",
            "Epoch 2/10\n",
            "586/586 [==============================] - 11s 19ms/step - loss: 0.5622 - binary_accuracy: 0.7947 - val_loss: 0.5128 - val_binary_accuracy: 0.8168\n",
            "Epoch 3/10\n",
            "586/586 [==============================] - 11s 18ms/step - loss: 0.4585 - binary_accuracy: 0.8401 - val_loss: 0.4342 - val_binary_accuracy: 0.8410\n",
            "Epoch 4/10\n",
            "586/586 [==============================] - 11s 19ms/step - loss: 0.3894 - binary_accuracy: 0.8634 - val_loss: 0.3868 - val_binary_accuracy: 0.8514\n",
            "Epoch 5/10\n",
            "586/586 [==============================] - 11s 19ms/step - loss: 0.3445 - binary_accuracy: 0.8759 - val_loss: 0.3562 - val_binary_accuracy: 0.8606\n",
            "Epoch 6/10\n",
            "586/586 [==============================] - 11s 19ms/step - loss: 0.3128 - binary_accuracy: 0.8866 - val_loss: 0.3361 - val_binary_accuracy: 0.8672\n",
            "Epoch 7/10\n",
            "586/586 [==============================] - 10s 18ms/step - loss: 0.2875 - binary_accuracy: 0.8948 - val_loss: 0.3219 - val_binary_accuracy: 0.8718\n",
            "Epoch 8/10\n",
            "586/586 [==============================] - 11s 19ms/step - loss: 0.2688 - binary_accuracy: 0.9018 - val_loss: 0.3132 - val_binary_accuracy: 0.8712\n",
            "Epoch 9/10\n",
            "586/586 [==============================] - 11s 19ms/step - loss: 0.2511 - binary_accuracy: 0.9091 - val_loss: 0.3055 - val_binary_accuracy: 0.8733\n",
            "Epoch 10/10\n",
            "586/586 [==============================] - 11s 19ms/step - loss: 0.2369 - binary_accuracy: 0.9134 - val_loss: 0.2992 - val_binary_accuracy: 0.8746\n"
          ]
        }
      ]
    },
    {
      "cell_type": "code",
      "source": [
        "loss, accuracy = model.evaluate(test_ds)\n",
        "\n",
        "print(\"Loss: \", loss)\n",
        "print(\"Accuracy: \", accuracy)"
      ],
      "metadata": {
        "colab": {
          "base_uri": "https://localhost:8080/"
        },
        "id": "w0nCknxSEiMS",
        "outputId": "651d47d6-7808-49c4-ac27-6c404de5f9a7"
      },
      "execution_count": 21,
      "outputs": [
        {
          "output_type": "stream",
          "name": "stdout",
          "text": [
            "782/782 [==============================] - 12s 15ms/step - loss: 0.3135 - binary_accuracy: 0.8724\n",
            "Loss:  0.3134799897670746\n",
            "Accuracy:  0.8723599910736084\n"
          ]
        }
      ]
    },
    {
      "cell_type": "code",
      "source": [
        "#export the model\n",
        "\n",
        "export_model = tf.keras.Sequential([\n",
        "  vectorize_layer,\n",
        "  model,\n",
        "  layers.Activation('sigmoid')\n",
        "])\n",
        "\n",
        "export_model.compile(\n",
        "    loss=losses.BinaryCrossentropy(from_logits=False), optimizer=\"adam\", metrics=['accuracy']\n",
        ")\n",
        "\n",
        "# Test it with `raw_test_ds`, which yields raw strings\n",
        "loss, accuracy = export_model.evaluate(raw_test_ds)\n",
        "print(accuracy)"
      ],
      "metadata": {
        "colab": {
          "base_uri": "https://localhost:8080/"
        },
        "id": "4Cgz3w7BHBOi",
        "outputId": "2ead1eb9-cbd3-499b-e804-02efbb1ff4f2"
      },
      "execution_count": 22,
      "outputs": [
        {
          "output_type": "stream",
          "name": "stdout",
          "text": [
            "782/782 [==============================] - 9s 12ms/step - loss: 0.3135 - accuracy: 0.8724\n",
            "0.8723599910736084\n"
          ]
        }
      ]
    },
    {
      "cell_type": "code",
      "source": [
        "examples = [\n",
        "  \"The movie was amazing!\",\n",
        "  \"The movie was okay.\",\n",
        "  \"The movie was horrible...\",\n",
        "  \"I did not like the movie\",\n",
        "  \"I loved the movie so much!\"\n",
        "]\n",
        "\n",
        "export_model.predict(examples)"
      ],
      "metadata": {
        "colab": {
          "base_uri": "https://localhost:8080/"
        },
        "id": "tvbO5ricHFp3",
        "outputId": "f4954866-b614-4266-df0a-bb93304c1e59"
      },
      "execution_count": 25,
      "outputs": [
        {
          "output_type": "stream",
          "name": "stdout",
          "text": [
            "1/1 [==============================] - 0s 37ms/step\n"
          ]
        },
        {
          "output_type": "execute_result",
          "data": {
            "text/plain": [
              "array([[0.61799955],\n",
              "       [0.43500537],\n",
              "       [0.36306998],\n",
              "       [0.45027247],\n",
              "       [0.5866078 ]], dtype=float32)"
            ]
          },
          "metadata": {},
          "execution_count": 25
        }
      ]
    }
  ]
}